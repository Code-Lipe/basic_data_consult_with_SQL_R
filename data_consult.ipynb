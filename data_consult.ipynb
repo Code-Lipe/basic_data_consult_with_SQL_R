{
  "nbformat": 4,
  "nbformat_minor": 0,
  "metadata": {
    "colab": {
      "provenance": [],
      "authorship_tag": "ABX9TyNm7cDXaJ9XWykvO2ZBsDvz"
    },
    "kernelspec": {
      "name": "ir",
      "display_name": "R"
    },
    "language_info": {
      "name": "R"
    }
  },
  "cells": [
    {
      "cell_type": "markdown",
      "source": [
        "# **Básica Consulta de Dados a partir do R**"
      ],
      "metadata": {
        "id": "sYW66UAtM0VQ"
      }
    },
    {
      "cell_type": "markdown",
      "source": [
        "## **Instalar e carregar o RSQLite**"
      ],
      "metadata": {
        "id": "YS-Iqc6GNNb5"
      }
    },
    {
      "cell_type": "code",
      "execution_count": 2,
      "metadata": {
        "colab": {
          "base_uri": "https://localhost:8080/"
        },
        "id": "YEfmWL-IMU-E",
        "outputId": "bb669302-767a-4a98-bb52-fc0b8e3ccce8"
      },
      "outputs": [
        {
          "output_type": "stream",
          "name": "stderr",
          "text": [
            "Installing package into ‘/usr/local/lib/R/site-library’\n",
            "(as ‘lib’ is unspecified)\n",
            "\n",
            "also installing the dependency ‘plogr’\n",
            "\n",
            "\n"
          ]
        }
      ],
      "source": [
        "install.packages(c('RSQLite'), repos = 'https://cran.rstudio.com', dependecies=TRUE)"
      ]
    },
    {
      "cell_type": "code",
      "source": [
        "library(\"RSQLite\")"
      ],
      "metadata": {
        "id": "Is96dDfNNiJl"
      },
      "execution_count": 1,
      "outputs": []
    },
    {
      "cell_type": "markdown",
      "source": [
        "## **Criando uma conexão de banco de dados**"
      ],
      "metadata": {
        "id": "YkjFMFaWOUH2"
      }
    },
    {
      "cell_type": "code",
      "source": [
        "conn <- dbConnect(RSQLite::SQLite(), \"Querying_DatabaseDB.sqlite\")"
      ],
      "metadata": {
        "id": "3VgKT_0rOYgU"
      },
      "execution_count": 16,
      "outputs": []
    },
    {
      "cell_type": "markdown",
      "source": [
        "## **Criando as tabelas BOARD/SCHOOL no banco de dados**\n",
        "\n"
      ],
      "metadata": {
        "id": "BtI_edbePZUO"
      }
    },
    {
      "cell_type": "code",
      "source": [
        "df1 <- dbExecute(conn, \"CREATE TABLE BOARD (\n",
        "  B_ID CHAR(6) NOT NULL,\n",
        "  B_NAME VARCHAR(75) NOT NULL,\n",
        "  TYPE VARCHAR(50) NOT NULL,\n",
        "  LANGUAGE VARCHAR(50),\n",
        "  PRIMARY KEY (B_ID))\",  errors=FALSE)\n",
        "\n",
        "df2 <- dbExecute(conn, \"CREATE TABLE SCHOOL (\n",
        "  B_ID CHAR(6) NOT NULL,\n",
        "  S_ID CHAR(6) NOT NULL,\n",
        "  S_NAME VARCHAR(100),\n",
        "  LEVEL VARCHAR(70),\n",
        "  ENROLLMENT INTEGER WITH DEFAULT 10,\n",
        "  PRIMARY KEY (B_ID, S_ID))\", errors=FALSE)"
      ],
      "metadata": {
        "id": "zHGy6jBhPd7E"
      },
      "execution_count": 3,
      "outputs": []
    },
    {
      "cell_type": "markdown",
      "source": [
        "## **Carregando os dados no banco de dados**"
      ],
      "metadata": {
        "id": "Pr9ICtkyRzjp"
      }
    },
    {
      "cell_type": "code",
      "source": [
        "boarddf <- read.csv('board.csv')\n",
        "schooldf <- read.csv('school.csv')"
      ],
      "metadata": {
        "id": "4vQs8tQQR3oI"
      },
      "execution_count": 4,
      "outputs": []
    },
    {
      "cell_type": "code",
      "source": [
        "# Visualizando\n",
        "\n",
        "head(boarddf)\n",
        "head(schooldf)"
      ],
      "metadata": {
        "colab": {
          "base_uri": "https://localhost:8080/",
          "height": 555
        },
        "id": "9tSmvCaISMa4",
        "outputId": "70804909-9d57-4b37-971a-15b3396df4e7"
      },
      "execution_count": 5,
      "outputs": [
        {
          "output_type": "display_data",
          "data": {
            "text/html": [
              "<table class=\"dataframe\">\n",
              "<caption>A data.frame: 6 × 4</caption>\n",
              "<thead>\n",
              "\t<tr><th></th><th scope=col>B28010</th><th scope=col>Algoma.DSB</th><th scope=col>Public</th><th scope=col>English</th></tr>\n",
              "\t<tr><th></th><th scope=col>&lt;chr&gt;</th><th scope=col>&lt;chr&gt;</th><th scope=col>&lt;chr&gt;</th><th scope=col>&lt;chr&gt;</th></tr>\n",
              "</thead>\n",
              "<tbody>\n",
              "\t<tr><th scope=row>1</th><td>B67202</td><td>Algonquin and Lakeshore CDSB</td><td>Roman Catholic</td><td>English</td></tr>\n",
              "\t<tr><th scope=row>2</th><td>B66010</td><td>Avon Maitland DSB           </td><td>Public        </td><td>English</td></tr>\n",
              "\t<tr><th scope=row>3</th><td>B66001</td><td>Bluewater DSB               </td><td>Public        </td><td>English</td></tr>\n",
              "\t<tr><th scope=row>4</th><td>B67164</td><td>Brant Haldimand Norfolk CDSB</td><td>Roman Catholic</td><td>English</td></tr>\n",
              "\t<tr><th scope=row>5</th><td>B67008</td><td>Bruce-Grey CDSB             </td><td>Roman Catholic</td><td>English</td></tr>\n",
              "\t<tr><th scope=row>6</th><td>B67172</td><td>CDSB of Eastern Ontario     </td><td>Roman Catholic</td><td>English</td></tr>\n",
              "</tbody>\n",
              "</table>\n"
            ],
            "text/markdown": "\nA data.frame: 6 × 4\n\n| <!--/--> | B28010 &lt;chr&gt; | Algoma.DSB &lt;chr&gt; | Public &lt;chr&gt; | English &lt;chr&gt; |\n|---|---|---|---|---|\n| 1 | B67202 | Algonquin and Lakeshore CDSB | Roman Catholic | English |\n| 2 | B66010 | Avon Maitland DSB            | Public         | English |\n| 3 | B66001 | Bluewater DSB                | Public         | English |\n| 4 | B67164 | Brant Haldimand Norfolk CDSB | Roman Catholic | English |\n| 5 | B67008 | Bruce-Grey CDSB              | Roman Catholic | English |\n| 6 | B67172 | CDSB of Eastern Ontario      | Roman Catholic | English |\n\n",
            "text/latex": "A data.frame: 6 × 4\n\\begin{tabular}{r|llll}\n  & B28010 & Algoma.DSB & Public & English\\\\\n  & <chr> & <chr> & <chr> & <chr>\\\\\n\\hline\n\t1 & B67202 & Algonquin and Lakeshore CDSB & Roman Catholic & English\\\\\n\t2 & B66010 & Avon Maitland DSB            & Public         & English\\\\\n\t3 & B66001 & Bluewater DSB                & Public         & English\\\\\n\t4 & B67164 & Brant Haldimand Norfolk CDSB & Roman Catholic & English\\\\\n\t5 & B67008 & Bruce-Grey CDSB              & Roman Catholic & English\\\\\n\t6 & B67172 & CDSB of Eastern Ontario      & Roman Catholic & English\\\\\n\\end{tabular}\n",
            "text/plain": [
              "  B28010 Algoma.DSB                   Public         English\n",
              "1 B67202 Algonquin and Lakeshore CDSB Roman Catholic English\n",
              "2 B66010 Avon Maitland DSB            Public         English\n",
              "3 B66001 Bluewater DSB                Public         English\n",
              "4 B67164 Brant Haldimand Norfolk CDSB Roman Catholic English\n",
              "5 B67008 Bruce-Grey CDSB              Roman Catholic English\n",
              "6 B67172 CDSB of Eastern Ontario      Roman Catholic English"
            ]
          },
          "metadata": {}
        },
        {
          "output_type": "display_data",
          "data": {
            "text/html": [
              "<table class=\"dataframe\">\n",
              "<caption>A data.frame: 6 × 5</caption>\n",
              "<thead>\n",
              "\t<tr><th></th><th scope=col>B28010</th><th scope=col>X891240</th><th scope=col>Alexander.Henry.HS</th><th scope=col>Secondary</th><th scope=col>X145</th></tr>\n",
              "\t<tr><th></th><th scope=col>&lt;chr&gt;</th><th scope=col>&lt;int&gt;</th><th scope=col>&lt;chr&gt;</th><th scope=col>&lt;chr&gt;</th><th scope=col>&lt;int&gt;</th></tr>\n",
              "</thead>\n",
              "<tbody>\n",
              "\t<tr><th scope=row>1</th><td>B28010</td><td>902344</td><td>Algoma Education Connection SS</td><td>Secondary </td><td>385</td></tr>\n",
              "\t<tr><th scope=row>2</th><td>B28010</td><td> 19186</td><td>Anna McCrea PS                </td><td>Elementary</td><td>177</td></tr>\n",
              "\t<tr><th scope=row>3</th><td>B28010</td><td> 67679</td><td>Arthur Henderson PS           </td><td>Elementary</td><td>104</td></tr>\n",
              "\t<tr><th scope=row>4</th><td>B28010</td><td> 28932</td><td>Aweres PS                     </td><td>Elementary</td><td> 95</td></tr>\n",
              "\t<tr><th scope=row>5</th><td>B28010</td><td> 43362</td><td>Ben R McMullin PS             </td><td>Elementary</td><td>241</td></tr>\n",
              "\t<tr><th scope=row>6</th><td>B28010</td><td> 54542</td><td>Blind River PS                </td><td>Elementary</td><td>180</td></tr>\n",
              "</tbody>\n",
              "</table>\n"
            ],
            "text/markdown": "\nA data.frame: 6 × 5\n\n| <!--/--> | B28010 &lt;chr&gt; | X891240 &lt;int&gt; | Alexander.Henry.HS &lt;chr&gt; | Secondary &lt;chr&gt; | X145 &lt;int&gt; |\n|---|---|---|---|---|---|\n| 1 | B28010 | 902344 | Algoma Education Connection SS | Secondary  | 385 |\n| 2 | B28010 |  19186 | Anna McCrea PS                 | Elementary | 177 |\n| 3 | B28010 |  67679 | Arthur Henderson PS            | Elementary | 104 |\n| 4 | B28010 |  28932 | Aweres PS                      | Elementary |  95 |\n| 5 | B28010 |  43362 | Ben R McMullin PS              | Elementary | 241 |\n| 6 | B28010 |  54542 | Blind River PS                 | Elementary | 180 |\n\n",
            "text/latex": "A data.frame: 6 × 5\n\\begin{tabular}{r|lllll}\n  & B28010 & X891240 & Alexander.Henry.HS & Secondary & X145\\\\\n  & <chr> & <int> & <chr> & <chr> & <int>\\\\\n\\hline\n\t1 & B28010 & 902344 & Algoma Education Connection SS & Secondary  & 385\\\\\n\t2 & B28010 &  19186 & Anna McCrea PS                 & Elementary & 177\\\\\n\t3 & B28010 &  67679 & Arthur Henderson PS            & Elementary & 104\\\\\n\t4 & B28010 &  28932 & Aweres PS                      & Elementary &  95\\\\\n\t5 & B28010 &  43362 & Ben R McMullin PS              & Elementary & 241\\\\\n\t6 & B28010 &  54542 & Blind River PS                 & Elementary & 180\\\\\n\\end{tabular}\n",
            "text/plain": [
              "  B28010 X891240 Alexander.Henry.HS             Secondary  X145\n",
              "1 B28010 902344  Algoma Education Connection SS Secondary  385 \n",
              "2 B28010  19186  Anna McCrea PS                 Elementary 177 \n",
              "3 B28010  67679  Arthur Henderson PS            Elementary 104 \n",
              "4 B28010  28932  Aweres PS                      Elementary  95 \n",
              "5 B28010  43362  Ben R McMullin PS              Elementary 241 \n",
              "6 B28010  54542  Blind River PS                 Elementary 180 "
            ]
          },
          "metadata": {}
        }
      ]
    },
    {
      "cell_type": "code",
      "source": [
        "# Renomeando colunas para uma melhor análise\n",
        "board_cnames <- c(\"B_ID\", \"B_NAME\", \"TYPE\", \"LANGUAGE\")\n",
        "school_cnames <- c(\"B_ID\", \"S_ID\", \"S_NAME\", \"LEVEL\", \"ENROLLMENT\")\n",
        "\n",
        "colnames(boarddf) <- board_cnames\n",
        "colnames(schooldf) <- school_cnames\n",
        "\n",
        "# Visualizando novamente\n",
        "head(boarddf)\n",
        "head(schooldf)"
      ],
      "metadata": {
        "colab": {
          "base_uri": "https://localhost:8080/",
          "height": 555
        },
        "id": "7Gh9flSFW99w",
        "outputId": "f66dc8e4-cea7-49fc-f382-a92199db53a1"
      },
      "execution_count": 15,
      "outputs": [
        {
          "output_type": "display_data",
          "data": {
            "text/html": [
              "<table class=\"dataframe\">\n",
              "<caption>A data.frame: 6 × 4</caption>\n",
              "<thead>\n",
              "\t<tr><th></th><th scope=col>B_ID</th><th scope=col>B_NAME</th><th scope=col>TYPE</th><th scope=col>LANGUAGE</th></tr>\n",
              "\t<tr><th></th><th scope=col>&lt;chr&gt;</th><th scope=col>&lt;chr&gt;</th><th scope=col>&lt;chr&gt;</th><th scope=col>&lt;chr&gt;</th></tr>\n",
              "</thead>\n",
              "<tbody>\n",
              "\t<tr><th scope=row>1</th><td>B67202</td><td>Algonquin and Lakeshore CDSB</td><td>Roman Catholic</td><td>English</td></tr>\n",
              "\t<tr><th scope=row>2</th><td>B66010</td><td>Avon Maitland DSB           </td><td>Public        </td><td>English</td></tr>\n",
              "\t<tr><th scope=row>3</th><td>B66001</td><td>Bluewater DSB               </td><td>Public        </td><td>English</td></tr>\n",
              "\t<tr><th scope=row>4</th><td>B67164</td><td>Brant Haldimand Norfolk CDSB</td><td>Roman Catholic</td><td>English</td></tr>\n",
              "\t<tr><th scope=row>5</th><td>B67008</td><td>Bruce-Grey CDSB             </td><td>Roman Catholic</td><td>English</td></tr>\n",
              "\t<tr><th scope=row>6</th><td>B67172</td><td>CDSB of Eastern Ontario     </td><td>Roman Catholic</td><td>English</td></tr>\n",
              "</tbody>\n",
              "</table>\n"
            ],
            "text/markdown": "\nA data.frame: 6 × 4\n\n| <!--/--> | B_ID &lt;chr&gt; | B_NAME &lt;chr&gt; | TYPE &lt;chr&gt; | LANGUAGE &lt;chr&gt; |\n|---|---|---|---|---|\n| 1 | B67202 | Algonquin and Lakeshore CDSB | Roman Catholic | English |\n| 2 | B66010 | Avon Maitland DSB            | Public         | English |\n| 3 | B66001 | Bluewater DSB                | Public         | English |\n| 4 | B67164 | Brant Haldimand Norfolk CDSB | Roman Catholic | English |\n| 5 | B67008 | Bruce-Grey CDSB              | Roman Catholic | English |\n| 6 | B67172 | CDSB of Eastern Ontario      | Roman Catholic | English |\n\n",
            "text/latex": "A data.frame: 6 × 4\n\\begin{tabular}{r|llll}\n  & B\\_ID & B\\_NAME & TYPE & LANGUAGE\\\\\n  & <chr> & <chr> & <chr> & <chr>\\\\\n\\hline\n\t1 & B67202 & Algonquin and Lakeshore CDSB & Roman Catholic & English\\\\\n\t2 & B66010 & Avon Maitland DSB            & Public         & English\\\\\n\t3 & B66001 & Bluewater DSB                & Public         & English\\\\\n\t4 & B67164 & Brant Haldimand Norfolk CDSB & Roman Catholic & English\\\\\n\t5 & B67008 & Bruce-Grey CDSB              & Roman Catholic & English\\\\\n\t6 & B67172 & CDSB of Eastern Ontario      & Roman Catholic & English\\\\\n\\end{tabular}\n",
            "text/plain": [
              "  B_ID   B_NAME                       TYPE           LANGUAGE\n",
              "1 B67202 Algonquin and Lakeshore CDSB Roman Catholic English \n",
              "2 B66010 Avon Maitland DSB            Public         English \n",
              "3 B66001 Bluewater DSB                Public         English \n",
              "4 B67164 Brant Haldimand Norfolk CDSB Roman Catholic English \n",
              "5 B67008 Bruce-Grey CDSB              Roman Catholic English \n",
              "6 B67172 CDSB of Eastern Ontario      Roman Catholic English "
            ]
          },
          "metadata": {}
        },
        {
          "output_type": "display_data",
          "data": {
            "text/html": [
              "<table class=\"dataframe\">\n",
              "<caption>A data.frame: 6 × 5</caption>\n",
              "<thead>\n",
              "\t<tr><th></th><th scope=col>B_ID</th><th scope=col>S_ID</th><th scope=col>S_NAME</th><th scope=col>LEVEL</th><th scope=col>ENROLLMENT</th></tr>\n",
              "\t<tr><th></th><th scope=col>&lt;chr&gt;</th><th scope=col>&lt;int&gt;</th><th scope=col>&lt;chr&gt;</th><th scope=col>&lt;chr&gt;</th><th scope=col>&lt;int&gt;</th></tr>\n",
              "</thead>\n",
              "<tbody>\n",
              "\t<tr><th scope=row>1</th><td>B28010</td><td>902344</td><td>Algoma Education Connection SS</td><td>Secondary </td><td>385</td></tr>\n",
              "\t<tr><th scope=row>2</th><td>B28010</td><td> 19186</td><td>Anna McCrea PS                </td><td>Elementary</td><td>177</td></tr>\n",
              "\t<tr><th scope=row>3</th><td>B28010</td><td> 67679</td><td>Arthur Henderson PS           </td><td>Elementary</td><td>104</td></tr>\n",
              "\t<tr><th scope=row>4</th><td>B28010</td><td> 28932</td><td>Aweres PS                     </td><td>Elementary</td><td> 95</td></tr>\n",
              "\t<tr><th scope=row>5</th><td>B28010</td><td> 43362</td><td>Ben R McMullin PS             </td><td>Elementary</td><td>241</td></tr>\n",
              "\t<tr><th scope=row>6</th><td>B28010</td><td> 54542</td><td>Blind River PS                </td><td>Elementary</td><td>180</td></tr>\n",
              "</tbody>\n",
              "</table>\n"
            ],
            "text/markdown": "\nA data.frame: 6 × 5\n\n| <!--/--> | B_ID &lt;chr&gt; | S_ID &lt;int&gt; | S_NAME &lt;chr&gt; | LEVEL &lt;chr&gt; | ENROLLMENT &lt;int&gt; |\n|---|---|---|---|---|---|\n| 1 | B28010 | 902344 | Algoma Education Connection SS | Secondary  | 385 |\n| 2 | B28010 |  19186 | Anna McCrea PS                 | Elementary | 177 |\n| 3 | B28010 |  67679 | Arthur Henderson PS            | Elementary | 104 |\n| 4 | B28010 |  28932 | Aweres PS                      | Elementary |  95 |\n| 5 | B28010 |  43362 | Ben R McMullin PS              | Elementary | 241 |\n| 6 | B28010 |  54542 | Blind River PS                 | Elementary | 180 |\n\n",
            "text/latex": "A data.frame: 6 × 5\n\\begin{tabular}{r|lllll}\n  & B\\_ID & S\\_ID & S\\_NAME & LEVEL & ENROLLMENT\\\\\n  & <chr> & <int> & <chr> & <chr> & <int>\\\\\n\\hline\n\t1 & B28010 & 902344 & Algoma Education Connection SS & Secondary  & 385\\\\\n\t2 & B28010 &  19186 & Anna McCrea PS                 & Elementary & 177\\\\\n\t3 & B28010 &  67679 & Arthur Henderson PS            & Elementary & 104\\\\\n\t4 & B28010 &  28932 & Aweres PS                      & Elementary &  95\\\\\n\t5 & B28010 &  43362 & Ben R McMullin PS              & Elementary & 241\\\\\n\t6 & B28010 &  54542 & Blind River PS                 & Elementary & 180\\\\\n\\end{tabular}\n",
            "text/plain": [
              "  B_ID   S_ID   S_NAME                         LEVEL      ENROLLMENT\n",
              "1 B28010 902344 Algoma Education Connection SS Secondary  385       \n",
              "2 B28010  19186 Anna McCrea PS                 Elementary 177       \n",
              "3 B28010  67679 Arthur Henderson PS            Elementary 104       \n",
              "4 B28010  28932 Aweres PS                      Elementary  95       \n",
              "5 B28010  43362 Ben R McMullin PS              Elementary 241       \n",
              "6 B28010  54542 Blind River PS                 Elementary 180       "
            ]
          },
          "metadata": {}
        }
      ]
    },
    {
      "cell_type": "code",
      "source": [
        "# Passando as tabelas para o banco de dados\n",
        "\n",
        "dbWriteTable(conn, \"SCHOOL\", schooldf, overWrite=TRUE, header=TRUE)\n",
        "dbWriteTable(conn, \"BOARD\", boarddf, overWrite=TRUE, header=TRUE)\n",
        "\n",
        "# Verificando tabelas\n",
        "\n",
        "dbListTables(conn)"
      ],
      "metadata": {
        "colab": {
          "base_uri": "https://localhost:8080/",
          "height": 34
        },
        "id": "Ge37NxPXSg96",
        "outputId": "9f79427c-c65a-4be1-cb96-8d450fda016b"
      },
      "execution_count": 17,
      "outputs": [
        {
          "output_type": "display_data",
          "data": {
            "text/html": [
              "<style>\n",
              ".list-inline {list-style: none; margin:0; padding: 0}\n",
              ".list-inline>li {display: inline-block}\n",
              ".list-inline>li:not(:last-child)::after {content: \"\\00b7\"; padding: 0 .5ex}\n",
              "</style>\n",
              "<ol class=list-inline><li>'BOARD'</li><li>'SCHOOL'</li></ol>\n"
            ],
            "text/markdown": "1. 'BOARD'\n2. 'SCHOOL'\n\n\n",
            "text/latex": "\\begin{enumerate*}\n\\item 'BOARD'\n\\item 'SCHOOL'\n\\end{enumerate*}\n",
            "text/plain": [
              "[1] \"BOARD\"  \"SCHOOL\""
            ]
          },
          "metadata": {}
        }
      ]
    },
    {
      "cell_type": "markdown",
      "source": [
        "## **Imprimindo detalhes para as tabelas BOARD/SCHOOL**"
      ],
      "metadata": {
        "id": "u-4WxIA9TsA6"
      }
    },
    {
      "cell_type": "code",
      "source": [
        "tables <- dbListTables(conn)\n",
        "\n",
        "for (table in tables){\n",
        "  cat (\"\\nInformações da coluna da tabela\", table, \":\\n\")\n",
        "  col.detail <- dbColumnInfo(dbSendQuery(conn, paste(\"SELECT * FROM\", table)))\n",
        "  print(col.detail)\n",
        "}"
      ],
      "metadata": {
        "colab": {
          "base_uri": "https://localhost:8080/"
        },
        "id": "5tnj6uKkT7ML",
        "outputId": "005074e8-0954-4ff5-f966-8a6755ac839b"
      },
      "execution_count": 18,
      "outputs": [
        {
          "output_type": "stream",
          "name": "stdout",
          "text": [
            "\n",
            "Informações da coluna da tabela BOARD :\n",
            "      name      type\n",
            "1     B_ID character\n",
            "2   B_NAME character\n",
            "3     TYPE character\n",
            "4 LANGUAGE character\n",
            "\n",
            "Informações da coluna da tabela SCHOOL :\n"
          ]
        },
        {
          "output_type": "stream",
          "name": "stderr",
          "text": [
            "Warning message:\n",
            "“Closing open result set, pending rows”\n"
          ]
        },
        {
          "output_type": "stream",
          "name": "stdout",
          "text": [
            "        name      type\n",
            "1       B_ID character\n",
            "2       S_ID   integer\n",
            "3     S_NAME character\n",
            "4      LEVEL character\n",
            "5 ENROLLMENT   integer\n"
          ]
        }
      ]
    },
    {
      "cell_type": "code",
      "source": [
        "# Exibir dados iniciais dos dataframes BOARD/SCHOOL\n",
        "\n",
        "dbGetQuery(conn, 'SELECT * FROM BOARD LIMIT 5')\n",
        "dbGetQuery(conn, 'SELECT * FROM SCHOOL LIMIT 5')"
      ],
      "metadata": {
        "colab": {
          "base_uri": "https://localhost:8080/",
          "height": 527
        },
        "id": "JQ89cXZZU5Wh",
        "outputId": "4428d609-6a82-485c-e303-a6699ae825b0"
      },
      "execution_count": 19,
      "outputs": [
        {
          "output_type": "stream",
          "name": "stderr",
          "text": [
            "Warning message:\n",
            "“Closing open result set, pending rows”\n"
          ]
        },
        {
          "output_type": "display_data",
          "data": {
            "text/html": [
              "<table class=\"dataframe\">\n",
              "<caption>A data.frame: 5 × 4</caption>\n",
              "<thead>\n",
              "\t<tr><th scope=col>B_ID</th><th scope=col>B_NAME</th><th scope=col>TYPE</th><th scope=col>LANGUAGE</th></tr>\n",
              "\t<tr><th scope=col>&lt;chr&gt;</th><th scope=col>&lt;chr&gt;</th><th scope=col>&lt;chr&gt;</th><th scope=col>&lt;chr&gt;</th></tr>\n",
              "</thead>\n",
              "<tbody>\n",
              "\t<tr><td>B67202</td><td>Algonquin and Lakeshore CDSB</td><td>Roman Catholic</td><td>English</td></tr>\n",
              "\t<tr><td>B66010</td><td>Avon Maitland DSB           </td><td>Public        </td><td>English</td></tr>\n",
              "\t<tr><td>B66001</td><td>Bluewater DSB               </td><td>Public        </td><td>English</td></tr>\n",
              "\t<tr><td>B67164</td><td>Brant Haldimand Norfolk CDSB</td><td>Roman Catholic</td><td>English</td></tr>\n",
              "\t<tr><td>B67008</td><td>Bruce-Grey CDSB             </td><td>Roman Catholic</td><td>English</td></tr>\n",
              "</tbody>\n",
              "</table>\n"
            ],
            "text/markdown": "\nA data.frame: 5 × 4\n\n| B_ID &lt;chr&gt; | B_NAME &lt;chr&gt; | TYPE &lt;chr&gt; | LANGUAGE &lt;chr&gt; |\n|---|---|---|---|\n| B67202 | Algonquin and Lakeshore CDSB | Roman Catholic | English |\n| B66010 | Avon Maitland DSB            | Public         | English |\n| B66001 | Bluewater DSB                | Public         | English |\n| B67164 | Brant Haldimand Norfolk CDSB | Roman Catholic | English |\n| B67008 | Bruce-Grey CDSB              | Roman Catholic | English |\n\n",
            "text/latex": "A data.frame: 5 × 4\n\\begin{tabular}{llll}\n B\\_ID & B\\_NAME & TYPE & LANGUAGE\\\\\n <chr> & <chr> & <chr> & <chr>\\\\\n\\hline\n\t B67202 & Algonquin and Lakeshore CDSB & Roman Catholic & English\\\\\n\t B66010 & Avon Maitland DSB            & Public         & English\\\\\n\t B66001 & Bluewater DSB                & Public         & English\\\\\n\t B67164 & Brant Haldimand Norfolk CDSB & Roman Catholic & English\\\\\n\t B67008 & Bruce-Grey CDSB              & Roman Catholic & English\\\\\n\\end{tabular}\n",
            "text/plain": [
              "  B_ID   B_NAME                       TYPE           LANGUAGE\n",
              "1 B67202 Algonquin and Lakeshore CDSB Roman Catholic English \n",
              "2 B66010 Avon Maitland DSB            Public         English \n",
              "3 B66001 Bluewater DSB                Public         English \n",
              "4 B67164 Brant Haldimand Norfolk CDSB Roman Catholic English \n",
              "5 B67008 Bruce-Grey CDSB              Roman Catholic English "
            ]
          },
          "metadata": {}
        },
        {
          "output_type": "display_data",
          "data": {
            "text/html": [
              "<table class=\"dataframe\">\n",
              "<caption>A data.frame: 5 × 5</caption>\n",
              "<thead>\n",
              "\t<tr><th scope=col>B_ID</th><th scope=col>S_ID</th><th scope=col>S_NAME</th><th scope=col>LEVEL</th><th scope=col>ENROLLMENT</th></tr>\n",
              "\t<tr><th scope=col>&lt;chr&gt;</th><th scope=col>&lt;int&gt;</th><th scope=col>&lt;chr&gt;</th><th scope=col>&lt;chr&gt;</th><th scope=col>&lt;int&gt;</th></tr>\n",
              "</thead>\n",
              "<tbody>\n",
              "\t<tr><td>B28010</td><td>902344</td><td>Algoma Education Connection SS</td><td>Secondary </td><td>385</td></tr>\n",
              "\t<tr><td>B28010</td><td> 19186</td><td>Anna McCrea PS                </td><td>Elementary</td><td>177</td></tr>\n",
              "\t<tr><td>B28010</td><td> 67679</td><td>Arthur Henderson PS           </td><td>Elementary</td><td>104</td></tr>\n",
              "\t<tr><td>B28010</td><td> 28932</td><td>Aweres PS                     </td><td>Elementary</td><td> 95</td></tr>\n",
              "\t<tr><td>B28010</td><td> 43362</td><td>Ben R McMullin PS             </td><td>Elementary</td><td>241</td></tr>\n",
              "</tbody>\n",
              "</table>\n"
            ],
            "text/markdown": "\nA data.frame: 5 × 5\n\n| B_ID &lt;chr&gt; | S_ID &lt;int&gt; | S_NAME &lt;chr&gt; | LEVEL &lt;chr&gt; | ENROLLMENT &lt;int&gt; |\n|---|---|---|---|---|\n| B28010 | 902344 | Algoma Education Connection SS | Secondary  | 385 |\n| B28010 |  19186 | Anna McCrea PS                 | Elementary | 177 |\n| B28010 |  67679 | Arthur Henderson PS            | Elementary | 104 |\n| B28010 |  28932 | Aweres PS                      | Elementary |  95 |\n| B28010 |  43362 | Ben R McMullin PS              | Elementary | 241 |\n\n",
            "text/latex": "A data.frame: 5 × 5\n\\begin{tabular}{lllll}\n B\\_ID & S\\_ID & S\\_NAME & LEVEL & ENROLLMENT\\\\\n <chr> & <int> & <chr> & <chr> & <int>\\\\\n\\hline\n\t B28010 & 902344 & Algoma Education Connection SS & Secondary  & 385\\\\\n\t B28010 &  19186 & Anna McCrea PS                 & Elementary & 177\\\\\n\t B28010 &  67679 & Arthur Henderson PS            & Elementary & 104\\\\\n\t B28010 &  28932 & Aweres PS                      & Elementary &  95\\\\\n\t B28010 &  43362 & Ben R McMullin PS              & Elementary & 241\\\\\n\\end{tabular}\n",
            "text/plain": [
              "  B_ID   S_ID   S_NAME                         LEVEL      ENROLLMENT\n",
              "1 B28010 902344 Algoma Education Connection SS Secondary  385       \n",
              "2 B28010  19186 Anna McCrea PS                 Elementary 177       \n",
              "3 B28010  67679 Arthur Henderson PS            Elementary 104       \n",
              "4 B28010  28932 Aweres PS                      Elementary  95       \n",
              "5 B28010  43362 Ben R McMullin PS              Elementary 241       "
            ]
          },
          "metadata": {}
        }
      ]
    },
    {
      "cell_type": "markdown",
      "source": [
        "## **Buscar dados do banco de dados**"
      ],
      "metadata": {
        "id": "a7NcUbGEYsH4"
      }
    },
    {
      "cell_type": "code",
      "source": [
        "# Exibindo algumas linhas do final dos dados\n",
        "boarddb <- dbGetQuery(conn, 'SELECT * FROM BOARD limit 5')\n",
        "tail(boarddb)\n",
        "\n",
        "schooldb <- dbGetQuery(conn, 'SELECT * FROM SCHOOL limit 5')\n",
        "tail(schooldb)"
      ],
      "metadata": {
        "colab": {
          "base_uri": "https://localhost:8080/",
          "height": 493
        },
        "id": "sP5ptLxMZrco",
        "outputId": "61339265-96f3-44d9-cfd2-d048276795a6"
      },
      "execution_count": 20,
      "outputs": [
        {
          "output_type": "display_data",
          "data": {
            "text/html": [
              "<table class=\"dataframe\">\n",
              "<caption>A data.frame: 5 × 4</caption>\n",
              "<thead>\n",
              "\t<tr><th></th><th scope=col>B_ID</th><th scope=col>B_NAME</th><th scope=col>TYPE</th><th scope=col>LANGUAGE</th></tr>\n",
              "\t<tr><th></th><th scope=col>&lt;chr&gt;</th><th scope=col>&lt;chr&gt;</th><th scope=col>&lt;chr&gt;</th><th scope=col>&lt;chr&gt;</th></tr>\n",
              "</thead>\n",
              "<tbody>\n",
              "\t<tr><th scope=row>1</th><td>B67202</td><td>Algonquin and Lakeshore CDSB</td><td>Roman Catholic</td><td>English</td></tr>\n",
              "\t<tr><th scope=row>2</th><td>B66010</td><td>Avon Maitland DSB           </td><td>Public        </td><td>English</td></tr>\n",
              "\t<tr><th scope=row>3</th><td>B66001</td><td>Bluewater DSB               </td><td>Public        </td><td>English</td></tr>\n",
              "\t<tr><th scope=row>4</th><td>B67164</td><td>Brant Haldimand Norfolk CDSB</td><td>Roman Catholic</td><td>English</td></tr>\n",
              "\t<tr><th scope=row>5</th><td>B67008</td><td>Bruce-Grey CDSB             </td><td>Roman Catholic</td><td>English</td></tr>\n",
              "</tbody>\n",
              "</table>\n"
            ],
            "text/markdown": "\nA data.frame: 5 × 4\n\n| <!--/--> | B_ID &lt;chr&gt; | B_NAME &lt;chr&gt; | TYPE &lt;chr&gt; | LANGUAGE &lt;chr&gt; |\n|---|---|---|---|---|\n| 1 | B67202 | Algonquin and Lakeshore CDSB | Roman Catholic | English |\n| 2 | B66010 | Avon Maitland DSB            | Public         | English |\n| 3 | B66001 | Bluewater DSB                | Public         | English |\n| 4 | B67164 | Brant Haldimand Norfolk CDSB | Roman Catholic | English |\n| 5 | B67008 | Bruce-Grey CDSB              | Roman Catholic | English |\n\n",
            "text/latex": "A data.frame: 5 × 4\n\\begin{tabular}{r|llll}\n  & B\\_ID & B\\_NAME & TYPE & LANGUAGE\\\\\n  & <chr> & <chr> & <chr> & <chr>\\\\\n\\hline\n\t1 & B67202 & Algonquin and Lakeshore CDSB & Roman Catholic & English\\\\\n\t2 & B66010 & Avon Maitland DSB            & Public         & English\\\\\n\t3 & B66001 & Bluewater DSB                & Public         & English\\\\\n\t4 & B67164 & Brant Haldimand Norfolk CDSB & Roman Catholic & English\\\\\n\t5 & B67008 & Bruce-Grey CDSB              & Roman Catholic & English\\\\\n\\end{tabular}\n",
            "text/plain": [
              "  B_ID   B_NAME                       TYPE           LANGUAGE\n",
              "1 B67202 Algonquin and Lakeshore CDSB Roman Catholic English \n",
              "2 B66010 Avon Maitland DSB            Public         English \n",
              "3 B66001 Bluewater DSB                Public         English \n",
              "4 B67164 Brant Haldimand Norfolk CDSB Roman Catholic English \n",
              "5 B67008 Bruce-Grey CDSB              Roman Catholic English "
            ]
          },
          "metadata": {}
        },
        {
          "output_type": "display_data",
          "data": {
            "text/html": [
              "<table class=\"dataframe\">\n",
              "<caption>A data.frame: 5 × 5</caption>\n",
              "<thead>\n",
              "\t<tr><th></th><th scope=col>B_ID</th><th scope=col>S_ID</th><th scope=col>S_NAME</th><th scope=col>LEVEL</th><th scope=col>ENROLLMENT</th></tr>\n",
              "\t<tr><th></th><th scope=col>&lt;chr&gt;</th><th scope=col>&lt;int&gt;</th><th scope=col>&lt;chr&gt;</th><th scope=col>&lt;chr&gt;</th><th scope=col>&lt;int&gt;</th></tr>\n",
              "</thead>\n",
              "<tbody>\n",
              "\t<tr><th scope=row>1</th><td>B28010</td><td>902344</td><td>Algoma Education Connection SS</td><td>Secondary </td><td>385</td></tr>\n",
              "\t<tr><th scope=row>2</th><td>B28010</td><td> 19186</td><td>Anna McCrea PS                </td><td>Elementary</td><td>177</td></tr>\n",
              "\t<tr><th scope=row>3</th><td>B28010</td><td> 67679</td><td>Arthur Henderson PS           </td><td>Elementary</td><td>104</td></tr>\n",
              "\t<tr><th scope=row>4</th><td>B28010</td><td> 28932</td><td>Aweres PS                     </td><td>Elementary</td><td> 95</td></tr>\n",
              "\t<tr><th scope=row>5</th><td>B28010</td><td> 43362</td><td>Ben R McMullin PS             </td><td>Elementary</td><td>241</td></tr>\n",
              "</tbody>\n",
              "</table>\n"
            ],
            "text/markdown": "\nA data.frame: 5 × 5\n\n| <!--/--> | B_ID &lt;chr&gt; | S_ID &lt;int&gt; | S_NAME &lt;chr&gt; | LEVEL &lt;chr&gt; | ENROLLMENT &lt;int&gt; |\n|---|---|---|---|---|---|\n| 1 | B28010 | 902344 | Algoma Education Connection SS | Secondary  | 385 |\n| 2 | B28010 |  19186 | Anna McCrea PS                 | Elementary | 177 |\n| 3 | B28010 |  67679 | Arthur Henderson PS            | Elementary | 104 |\n| 4 | B28010 |  28932 | Aweres PS                      | Elementary |  95 |\n| 5 | B28010 |  43362 | Ben R McMullin PS              | Elementary | 241 |\n\n",
            "text/latex": "A data.frame: 5 × 5\n\\begin{tabular}{r|lllll}\n  & B\\_ID & S\\_ID & S\\_NAME & LEVEL & ENROLLMENT\\\\\n  & <chr> & <int> & <chr> & <chr> & <int>\\\\\n\\hline\n\t1 & B28010 & 902344 & Algoma Education Connection SS & Secondary  & 385\\\\\n\t2 & B28010 &  19186 & Anna McCrea PS                 & Elementary & 177\\\\\n\t3 & B28010 &  67679 & Arthur Henderson PS            & Elementary & 104\\\\\n\t4 & B28010 &  28932 & Aweres PS                      & Elementary &  95\\\\\n\t5 & B28010 &  43362 & Ben R McMullin PS              & Elementary & 241\\\\\n\\end{tabular}\n",
            "text/plain": [
              "  B_ID   S_ID   S_NAME                         LEVEL      ENROLLMENT\n",
              "1 B28010 902344 Algoma Education Connection SS Secondary  385       \n",
              "2 B28010  19186 Anna McCrea PS                 Elementary 177       \n",
              "3 B28010  67679 Arthur Henderson PS            Elementary 104       \n",
              "4 B28010  28932 Aweres PS                      Elementary  95       \n",
              "5 B28010  43362 Ben R McMullin PS              Elementary 241       "
            ]
          },
          "metadata": {}
        }
      ]
    },
    {
      "cell_type": "markdown",
      "source": [
        "## **Plotando os dados (usando ggplot2)**"
      ],
      "metadata": {
        "id": "BNqFfRf-aLnr"
      }
    },
    {
      "cell_type": "code",
      "source": [
        "library(ggplot2)"
      ],
      "metadata": {
        "id": "FIk6JUMHaSti"
      },
      "execution_count": 21,
      "outputs": []
    },
    {
      "cell_type": "code",
      "source": [
        "# Obtendo os dados do ensino fundamental do banco de dados em ambas as tabelas em sequência decrescente\n",
        "\n",
        "elequery <- paste(\"SELECT ENROLLMENT\n",
        "                  FROM SCHOOL s, BOARD b\n",
        "                  WHERE b.B_NAME = 'Toronto DSB' AND b.B_ID=s.B_ID\n",
        "                  AND s.LEVEL = 'Elementary'\n",
        "                  ORDER BY ENROLLMENT DESC\")\n",
        "\n",
        "# Criando dataframe do ensino fundamental\n",
        "\n",
        "eledf <- dbGetQuery(conn, elequery)\n",
        "dim(eledf)"
      ],
      "metadata": {
        "colab": {
          "base_uri": "https://localhost:8080/",
          "height": 34
        },
        "id": "ec9QSQEYaaZC",
        "outputId": "97b29802-9a89-4beb-a0b9-4da932e6a991"
      },
      "execution_count": 22,
      "outputs": [
        {
          "output_type": "display_data",
          "data": {
            "text/html": [
              "<style>\n",
              ".list-inline {list-style: none; margin:0; padding: 0}\n",
              ".list-inline>li {display: inline-block}\n",
              ".list-inline>li:not(:last-child)::after {content: \"\\00b7\"; padding: 0 .5ex}\n",
              "</style>\n",
              "<ol class=list-inline><li>476</li><li>1</li></ol>\n"
            ],
            "text/markdown": "1. 476\n2. 1\n\n\n",
            "text/latex": "\\begin{enumerate*}\n\\item 476\n\\item 1\n\\end{enumerate*}\n",
            "text/plain": [
              "[1] 476   1"
            ]
          },
          "metadata": {}
        }
      ]
    },
    {
      "cell_type": "code",
      "source": [
        "# Criando um gráfico de densidade de matrículas no ensino fundamental\n",
        "\n",
        "qplot(ENROLLMENT, data=eledf, geom=\"density\",  main=\"TDSB School Size - Elementary\")"
      ],
      "metadata": {
        "colab": {
          "base_uri": "https://localhost:8080/",
          "height": 472
        },
        "id": "Oqrkw_ekbzfb",
        "outputId": "707178bf-4933-4c0f-91a3-59e6bfb95528"
      },
      "execution_count": 23,
      "outputs": [
        {
          "output_type": "stream",
          "name": "stderr",
          "text": [
            "Warning message:\n",
            "“\u001b[1m\u001b[22m`qplot()` was deprecated in ggplot2 3.4.0.”\n"
          ]
        },
        {
          "output_type": "display_data",
          "data": {
            "text/plain": [
              "plot without title"
            ],
            "image/png": "[encoded data removed]"
          },
          "metadata": {
            "image/png": {
              "width": 420,
              "height": 420
            }
          }
        }
      ]
    },
    {
      "cell_type": "code",
      "source": [
        "# Criando consulta de matrículas do ensino médio em sequência decrescente.\n",
        "\n",
        "secquency <- paste(\"SELECT s.ENROLLMENT\n",
        "                   FROM SCHOOL s, BOARD b\n",
        "                   WHERE b.B_NAME = 'Toronto DSB' and b.B_ID=s.B_ID and s.LEVEL = 'Secondary'\n",
        "                   ORDER BY ENROLLMENT DESC\")\n",
        "\n",
        "# Criando um dataframe usando os dados no banco de dados.\n",
        "\n",
        "secdf <- dbGetQuery(conn, secquency)"
      ],
      "metadata": {
        "id": "7rcbPz8TcP9v"
      },
      "execution_count": 24,
      "outputs": []
    },
    {
      "cell_type": "code",
      "source": [
        "# Criando um gráfico de densidade de matrículas no ensino médio.\n",
        "qplot(ENROLLMENT, data=secdf, geom=\"density\",  main=\"TDSB School Size - Secondary\")"
      ],
      "metadata": {
        "colab": {
          "base_uri": "https://localhost:8080/",
          "height": 472
        },
        "id": "m_t9tNUlcySr",
        "outputId": "c434954b-3e8f-44e6-9f79-5e75aa6a6b42"
      },
      "execution_count": 25,
      "outputs": [
        {
          "output_type": "stream",
          "name": "stderr",
          "text": [
            "Warning message:\n",
            "“\u001b[1m\u001b[22mRemoved 4 rows containing non-finite values (`stat_density()`).”\n"
          ]
        },
        {
          "output_type": "display_data",
          "data": {
            "text/plain": [
              "plot without title"
            ],
            "image/png": "[encoded data removed]"
          },
          "metadata": {
            "image/png": {
              "width": 420,
              "height": 420
            }
          }
        }
      ]
    },
    {
      "cell_type": "code",
      "source": [
        "## Consultando o banco de dados BOARD para inscrições\n",
        "\n",
        "denquery <- paste(\"SELECT b.B_NAME, s.S_NAME, LEVEL , ENROLLMENT\n",
        "                  FROM BOARD b, SCHOOL s\n",
        "                  WHERE b.B_ID = s.B_ID AND b.B_NAME = 'Toronto DSB'\")\n",
        "\n",
        "## Consultando no banco de dados\n",
        "dendf <- dbGetQuery(conn, denquery)"
      ],
      "metadata": {
        "id": "lSDJjzddc_Qx"
      },
      "execution_count": 26,
      "outputs": []
    },
    {
      "cell_type": "code",
      "source": [
        "# Criando um box plot de matrículas em escolas primárias e secundárias em Toronto\n",
        "\n",
        "dendf$LEVEL <- as.factor(dendf$LEVEL)\n",
        "boxplot(ENROLLMENT ~ LEVEL, dendf, names= c(\"Secondary\",\"Elementary\"), main=\"Toronto DSB\")"
      ],
      "metadata": {
        "colab": {
          "base_uri": "https://localhost:8080/",
          "height": 437
        },
        "id": "R6R7SIH_dX7c",
        "outputId": "b8a57909-982d-422e-b069-34622d67ed39"
      },
      "execution_count": 28,
      "outputs": [
        {
          "output_type": "display_data",
          "data": {
            "text/plain": [
              "Plot with title “Toronto DSB”"
            ],
            "image/png": "[encoded data removed]"
          },
          "metadata": {
            "image/png": {
              "width": 420,
              "height": 420
            }
          }
        }
      ]
    }
  ]
}